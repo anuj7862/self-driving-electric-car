{
  "nbformat": 4,
  "nbformat_minor": 0,
  "metadata": {
    "colab": {
      "name": "RGB.ipynb",
      "provenance": [],
      "collapsed_sections": [],
      "machine_shape": "hm"
    },
    "kernelspec": {
      "name": "python3",
      "display_name": "Python 3"
    }
  },
  "cells": [
    {
      "cell_type": "code",
      "metadata": {
        "id": "sqDLjEJdhzG-",
        "outputId": "b68b31ea-d3fb-4c64-dc0d-c39196dd673a",
        "colab": {
          "base_uri": "https://localhost:8080/",
          "height": 122
        }
      },
      "source": [
        "from google.colab import drive\n",
        "drive.mount('/content/drive/')"
      ],
      "execution_count": null,
      "outputs": [
        {
          "output_type": "stream",
          "text": [
            "Go to this URL in a browser: https://accounts.google.com/o/oauth2/auth?client_id=947318989803-6bn6qk8qdgf4n4g3pfee6491hc0brc4i.apps.googleusercontent.com&redirect_uri=urn%3aietf%3awg%3aoauth%3a2.0%3aoob&response_type=code&scope=email%20https%3a%2f%2fwww.googleapis.com%2fauth%2fdocs.test%20https%3a%2f%2fwww.googleapis.com%2fauth%2fdrive%20https%3a%2f%2fwww.googleapis.com%2fauth%2fdrive.photos.readonly%20https%3a%2f%2fwww.googleapis.com%2fauth%2fpeopleapi.readonly\n",
            "\n",
            "Enter your authorization code:\n",
            "··········\n",
            "Mounted at /content/drive/\n"
          ],
          "name": "stdout"
        }
      ]
    },
    {
      "cell_type": "code",
      "metadata": {
        "id": "WC6sgXyd9DKS"
      },
      "source": [
        "import pandas as pd\n",
        "import numpy as np\n",
        "import keras\n",
        "import cv2\n",
        "from keras.models import Sequential\n",
        "from keras.optimizers import Adam\n",
        "from keras.layers import Lambda, Conv2D, MaxPooling2D, Dropout, Dense, Flatten\n",
        "import os\n",
        "from sklearn.model_selection import train_test_split\n",
        "from keras import optimizers"
      ],
      "execution_count": null,
      "outputs": []
    },
    {
      "cell_type": "code",
      "metadata": {
        "id": "UhVdAprehCiZ"
      },
      "source": [
        "os.chdir(\"/content/drive/My Drive/Self_driving\")"
      ],
      "execution_count": null,
      "outputs": []
    },
    {
      "cell_type": "code",
      "metadata": {
        "id": "c9wQymURhCVA",
        "outputId": "f7bd0fd5-6fc9-4a90-8eb2-9d562874859e",
        "colab": {
          "base_uri": "https://localhost:8080/",
          "height": 85
        }
      },
      "source": [
        "!ls"
      ],
      "execution_count": null,
      "outputs": [
        {
          "output_type": "stream",
          "text": [
            " color_1.pickle       color_images.npy\t depth_image_data_2   outputs.npy\n",
            " color_2.pickle       depth_1.pickle\t depth_images.npy     PreProcess.ipynb\n",
            " color_image_data     depth_2.pickle\t manual.py\t      RGB.ipynb\n",
            " color_image_data_2   depth_image_data\t model.h5\t     'Untitled folder'\n"
          ],
          "name": "stdout"
        }
      ]
    },
    {
      "cell_type": "code",
      "metadata": {
        "id": "k9ebe8l3TBZx"
      },
      "source": [
        "X = np.load('color_images.npy')\n",
        "Y = np.load('outputs.npy')"
      ],
      "execution_count": null,
      "outputs": []
    },
    {
      "cell_type": "code",
      "metadata": {
        "id": "RPEWKNpOSiDK",
        "outputId": "3dd50dda-4e05-42d0-cac4-1c48f40e3d7b",
        "colab": {
          "base_uri": "https://localhost:8080/",
          "height": 34
        }
      },
      "source": [
        "x_train, x_test, y_train, y_test = train_test_split(X, Y, test_size = 0.2)\n",
        "x_train.shape"
      ],
      "execution_count": null,
      "outputs": [
        {
          "output_type": "execute_result",
          "data": {
            "text/plain": [
              "(4138, 210, 640, 3)"
            ]
          },
          "metadata": {
            "tags": []
          },
          "execution_count": 13
        }
      ]
    },
    {
      "cell_type": "code",
      "metadata": {
        "id": "DKggALIWa4g5",
        "outputId": "1edc3e7c-464a-4efe-dae3-4819128c5aca",
        "colab": {
          "base_uri": "https://localhost:8080/",
          "height": 34
        }
      },
      "source": [
        "#x_train_resize = x_train*1.0/255#np.resize(x_train,(4138,128,256,3))*1.0/255\n",
        "#x_test_resize = x_test*1.0/255#np.resize(x_test,(1035,128,256,3))*1.0/255\n",
        "#x_train_resize.shape"
      ],
      "execution_count": null,
      "outputs": [
        {
          "output_type": "execute_result",
          "data": {
            "text/plain": [
              "(4138, 210, 640, 3)"
            ]
          },
          "metadata": {
            "tags": []
          },
          "execution_count": 7
        }
      ]
    },
    {
      "cell_type": "code",
      "metadata": {
        "id": "7k1Oab9-gnQJ",
        "outputId": "3cb48b72-c463-4a72-aeaf-7a2b0ea8c417",
        "colab": {
          "base_uri": "https://localhost:8080/",
          "height": 785
        }
      },
      "source": [
        "model = Sequential()\n",
        "model.add(Lambda(lambda x: x/127.5-1.0, input_shape=(210, 640, 3)))\n",
        "model.add(Conv2D(16, 5, 5, activation='relu', subsample=(2, 2)))\n",
        "model.add(Conv2D(32, 5, 5, activation='relu', subsample=(2, 2)))\n",
        "model.add(Conv2D(32, 5, 5, activation='relu', subsample=(2, 2)))\n",
        "model.add(Dropout(.1))\n",
        "model.add(Conv2D(64, 3, 3, activation='relu'))\n",
        "model.add(Conv2D(128, 3, 3, activation='relu'))\n",
        "model.add(Dropout(.1))\n",
        "#model.add(Conv2D(128,3, 3, activation='relu'))\n",
        "#model.add(Dropout(.1))\n",
        "model.add(Flatten())\n",
        "model.add(Dense(100, activation='relu'))\n",
        "model.add(Dense(50, activation='relu'))\n",
        "model.add(Dense(10, activation='relu'))\n",
        "model.add(Dense(2,activation='linear',name='final_layer'))\n",
        "model.summary()\n"
      ],
      "execution_count": null,
      "outputs": [
        {
          "output_type": "stream",
          "text": [
            "Model: \"sequential_2\"\n",
            "_________________________________________________________________\n",
            "Layer (type)                 Output Shape              Param #   \n",
            "=================================================================\n",
            "lambda_2 (Lambda)            (None, 210, 640, 3)       0         \n",
            "_________________________________________________________________\n",
            "conv2d_6 (Conv2D)            (None, 103, 318, 16)      1216      \n",
            "_________________________________________________________________\n",
            "conv2d_7 (Conv2D)            (None, 50, 157, 32)       12832     \n",
            "_________________________________________________________________\n",
            "conv2d_8 (Conv2D)            (None, 23, 77, 32)        25632     \n",
            "_________________________________________________________________\n",
            "dropout_3 (Dropout)          (None, 23, 77, 32)        0         \n",
            "_________________________________________________________________\n",
            "conv2d_9 (Conv2D)            (None, 21, 75, 64)        18496     \n",
            "_________________________________________________________________\n",
            "conv2d_10 (Conv2D)           (None, 19, 73, 128)       73856     \n",
            "_________________________________________________________________\n",
            "dropout_4 (Dropout)          (None, 19, 73, 128)       0         \n",
            "_________________________________________________________________\n",
            "flatten_2 (Flatten)          (None, 177536)            0         \n",
            "_________________________________________________________________\n",
            "dense_4 (Dense)              (None, 100)               17753700  \n",
            "_________________________________________________________________\n",
            "dense_5 (Dense)              (None, 50)                5050      \n",
            "_________________________________________________________________\n",
            "dense_6 (Dense)              (None, 10)                510       \n",
            "_________________________________________________________________\n",
            "final_layer (Dense)          (None, 2)                 22        \n",
            "=================================================================\n",
            "Total params: 17,891,314\n",
            "Trainable params: 17,891,314\n",
            "Non-trainable params: 0\n",
            "_________________________________________________________________\n"
          ],
          "name": "stdout"
        },
        {
          "output_type": "stream",
          "text": [
            "/usr/local/lib/python3.6/dist-packages/ipykernel_launcher.py:3: UserWarning: Update your `Conv2D` call to the Keras 2 API: `Conv2D(16, (5, 5), activation=\"relu\", strides=(2, 2))`\n",
            "  This is separate from the ipykernel package so we can avoid doing imports until\n",
            "/usr/local/lib/python3.6/dist-packages/ipykernel_launcher.py:4: UserWarning: Update your `Conv2D` call to the Keras 2 API: `Conv2D(32, (5, 5), activation=\"relu\", strides=(2, 2))`\n",
            "  after removing the cwd from sys.path.\n",
            "/usr/local/lib/python3.6/dist-packages/ipykernel_launcher.py:5: UserWarning: Update your `Conv2D` call to the Keras 2 API: `Conv2D(32, (5, 5), activation=\"relu\", strides=(2, 2))`\n",
            "  \"\"\"\n",
            "/usr/local/lib/python3.6/dist-packages/ipykernel_launcher.py:7: UserWarning: Update your `Conv2D` call to the Keras 2 API: `Conv2D(64, (3, 3), activation=\"relu\")`\n",
            "  import sys\n",
            "/usr/local/lib/python3.6/dist-packages/ipykernel_launcher.py:8: UserWarning: Update your `Conv2D` call to the Keras 2 API: `Conv2D(128, (3, 3), activation=\"relu\")`\n",
            "  \n"
          ],
          "name": "stderr"
        }
      ]
    },
    {
      "cell_type": "code",
      "metadata": {
        "id": "5pYPxCIIg5FI",
        "outputId": "53def122-4461-4f09-bad0-72d7ff76c068",
        "colab": {
          "base_uri": "https://localhost:8080/",
          "height": 51
        }
      },
      "source": [
        "print(model.output.op.name)\n",
        "print(model.input.op.name)"
      ],
      "execution_count": null,
      "outputs": [
        {
          "output_type": "stream",
          "text": [
            "final_layer_1/BiasAdd\n",
            "lambda_2_input\n"
          ],
          "name": "stdout"
        }
      ]
    },
    {
      "cell_type": "code",
      "metadata": {
        "id": "Y8GiiUjZg95R"
      },
      "source": [
        "ada = optimizers.Adam(lr=0.001, beta_1=0.9, beta_2=0.999, amsgrad=False)\n",
        "model.compile(loss='mean_absolute_error', optimizer=ada, metrics=['mean_absolute_error'])"
      ],
      "execution_count": null,
      "outputs": []
    },
    {
      "cell_type": "code",
      "metadata": {
        "id": "mLP6iOh7g9RH"
      },
      "source": [
        ""
      ],
      "execution_count": null,
      "outputs": []
    },
    {
      "cell_type": "code",
      "metadata": {
        "id": "QUAGUSYhtH3k"
      },
      "source": [
        "#os.chdir(\"/content/drive/My Drive/Self_driving/depth_image_data/\")"
      ],
      "execution_count": null,
      "outputs": []
    },
    {
      "cell_type": "code",
      "metadata": {
        "id": "5BbdTFnvoCa5"
      },
      "source": [
        "#import cv2\n",
        "#import matplotlib as plt\n",
        "#color_img = cv2.imread('Img4_464-099+205.jpg')\n",
        "#print(color_img)\n",
        "#color_img1 = np.asarray(color_img)\n",
        "#cv2.imshow('image',color_img)\n",
        "#plt.show()\n",
        "#cv2.waitKey(1)"
      ],
      "execution_count": null,
      "outputs": []
    },
    {
      "cell_type": "code",
      "metadata": {
        "id": "jIMHjp5Yt57s"
      },
      "source": [
        "#print(color_img.shape)"
      ],
      "execution_count": null,
      "outputs": []
    },
    {
      "cell_type": "code",
      "metadata": {
        "id": "l-uSYt2ft5qH"
      },
      "source": [
        "#img = cv2.resize(color_img,(200, 66))\n",
        "#p = np.resize(img,(1,66,200,3))"
      ],
      "execution_count": null,
      "outputs": []
    },
    {
      "cell_type": "code",
      "metadata": {
        "id": "piByhHugveWw"
      },
      "source": [
        "#print(color_img.shape)\n",
        "#print(depthImg.shape)"
      ],
      "execution_count": null,
      "outputs": []
    },
    {
      "cell_type": "code",
      "metadata": {
        "id": "mxlhjF6va00s",
        "outputId": "fc818379-da59-49e1-879a-5f41af0b6830",
        "colab": {
          "base_uri": "https://localhost:8080/",
          "height": 595
        }
      },
      "source": [
        "model.fit(x_train, y_train, batch_size = 32, epochs = 20)"
      ],
      "execution_count": null,
      "outputs": [
        {
          "output_type": "stream",
          "text": [
            "Epoch 1/20\n",
            "4138/4138 [==============================] - 194s 47ms/step - loss: 64.7594 - mean_absolute_error: 64.7594\n",
            "Epoch 2/20\n",
            "4138/4138 [==============================] - 192s 46ms/step - loss: 46.0891 - mean_absolute_error: 46.0891\n",
            "Epoch 3/20\n",
            "4138/4138 [==============================] - 192s 46ms/step - loss: 43.0156 - mean_absolute_error: 43.0156\n",
            "Epoch 4/20\n",
            "4138/4138 [==============================] - 193s 47ms/step - loss: 39.7557 - mean_absolute_error: 39.7557\n",
            "Epoch 5/20\n",
            "4138/4138 [==============================] - 197s 48ms/step - loss: 38.9501 - mean_absolute_error: 38.9501\n",
            "Epoch 6/20\n",
            "4138/4138 [==============================] - 195s 47ms/step - loss: 39.1170 - mean_absolute_error: 39.1170\n",
            "Epoch 7/20\n",
            "4138/4138 [==============================] - 194s 47ms/step - loss: 36.9991 - mean_absolute_error: 36.9991\n",
            "Epoch 8/20\n",
            "4138/4138 [==============================] - 193s 47ms/step - loss: 36.0500 - mean_absolute_error: 36.0500\n",
            "Epoch 9/20\n",
            "4138/4138 [==============================] - 192s 46ms/step - loss: 34.2769 - mean_absolute_error: 34.2769\n",
            "Epoch 10/20\n",
            "4138/4138 [==============================] - 191s 46ms/step - loss: 33.3905 - mean_absolute_error: 33.3905\n",
            "Epoch 11/20\n",
            "4138/4138 [==============================] - 204s 49ms/step - loss: 32.2800 - mean_absolute_error: 32.2800\n",
            "Epoch 12/20\n",
            "4138/4138 [==============================] - 215s 52ms/step - loss: 29.7505 - mean_absolute_error: 29.7505\n",
            "Epoch 13/20\n",
            "4138/4138 [==============================] - 214s 52ms/step - loss: 28.3378 - mean_absolute_error: 28.3378\n",
            "Epoch 14/20\n",
            "4138/4138 [==============================] - 201s 49ms/step - loss: 26.7176 - mean_absolute_error: 26.7176\n",
            "Epoch 15/20\n",
            "4138/4138 [==============================] - 198s 48ms/step - loss: 24.9652 - mean_absolute_error: 24.9652\n",
            "Epoch 16/20\n",
            "4138/4138 [==============================] - 192s 46ms/step - loss: 23.3667 - mean_absolute_error: 23.3667\n",
            "Epoch 17/20\n",
            "2976/4138 [====================>.........] - ETA: 53s - loss: 22.0298 - mean_absolute_error: 22.0298"
          ],
          "name": "stdout"
        }
      ]
    },
    {
      "cell_type": "code",
      "metadata": {
        "id": "tblcBcGJiTzO"
      },
      "source": [
        "model.predict(p)"
      ],
      "execution_count": null,
      "outputs": []
    },
    {
      "cell_type": "code",
      "metadata": {
        "id": "bUtZdDU2dNj0"
      },
      "source": [
        "model.save(\"model.h5\")"
      ],
      "execution_count": null,
      "outputs": []
    },
    {
      "cell_type": "code",
      "metadata": {
        "id": "q5mcz5sy6_DB"
      },
      "source": [
        "#depth img preprocessing -\n",
        "depthImg = color_img[:,:,0]\n",
        "depthImg = cv2.resize(depthImg,(200,66))\n",
        "depthImg = np.resize(depthImg,(1,66,200,1))\n",
        "print(depthImg.shape)"
      ],
      "execution_count": null,
      "outputs": []
    },
    {
      "cell_type": "code",
      "metadata": {
        "id": "IeuYmXxZ4yvY"
      },
      "source": [
        "##model for only depth image \n",
        "model_1 = Sequential()\n",
        "model_1.add(Lambda(lambda x: x/127.5-1.0, input_shape=(66, 200,1)))\n",
        "model_1.add(Conv2D(24, 5, 5, activation='relu', subsample=(2, 2)))\n",
        "model_1.add(Conv2D(36, 5, 5, activation='relu', subsample=(2, 2)))\n",
        "#model_1.add(Conv2D(48, 5, 5, activation='relu', subsample=(2, 2)))\n",
        "model_1.add(Conv2D(64, 3, 3, activation='relu'))\n",
        "#model.add(Conv2D(64, 3, 3, activation='relu'))\n",
        "model_1.add(Dropout(.1))\n",
        "model_1.add(Flatten())\n",
        "model_1.add(Dense(100, activation='relu'))\n",
        "model_1.add(Dense(50, activation='relu'))\n",
        "model_1.add(Dense(10, activation='relu'))\n",
        "model_1.add(Dense(2, name='final_layer'))\n",
        "model_1.summary()\n"
      ],
      "execution_count": null,
      "outputs": []
    },
    {
      "cell_type": "code",
      "metadata": {
        "id": "YZMuxoUY9WHB"
      },
      "source": [
        "depth_img = color_img\n",
        "#depthImg = cv2.resize(depthImg,(200,66))\n",
        "depthImg = np.resize(depthImg,(480,640,1))\n",
        "img = np.concatenate([color_img,depth_img], axis = 2)\n",
        "img = img[:,:,:4]\n",
        "img = cv2.resize(img,(200,66))\n",
        "img = np.resize(img,(1,66,200,4))\n",
        "img.shape"
      ],
      "execution_count": null,
      "outputs": []
    },
    {
      "cell_type": "code",
      "metadata": {
        "id": "697vw-Xl9VUe"
      },
      "source": [
        "## model for rgb + depth img\n",
        "model_2 = Sequential()\n",
        "model_2.add(Lambda(lambda x: x/127.5-1.0, input_shape=(66, 200,4)))\n",
        "model_2.add(Conv2D(24, 5, 5, activation='relu', subsample=(2, 2)))\n",
        "model_2.add(Conv2D(36, 5, 5, activation='relu', subsample=(2, 2)))\n",
        "model_2.add(Conv2D(48, 5, 5, activation='relu', subsample=(2, 2)))\n",
        "model_2.add(Conv2D(64, 3, 3, activation='relu'))\n",
        "model_2.add(Conv2D(64, 3, 3, activation='relu'))\n",
        "model_2.add(Dropout(.1))\n",
        "model_2.add(Flatten())\n",
        "model_2.add(Dense(100, activation='relu'))\n",
        "model_2.add(Dense(50, activation='relu'))\n",
        "model_2.add(Dense(10, activation='relu'))\n",
        "model_2.add(Dense(2, name='final_layer'))\n",
        "model_2.summary()"
      ],
      "execution_count": null,
      "outputs": []
    }
  ]
}